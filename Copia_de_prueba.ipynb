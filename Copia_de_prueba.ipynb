{
  "nbformat": 4,
  "nbformat_minor": 0,
  "metadata": {
    "colab": {
      "provenance": [],
      "authorship_tag": "ABX9TyOOMeY1uuBPwp5Nl8bEBQPj",
      "include_colab_link": true
    },
    "kernelspec": {
      "name": "python3",
      "display_name": "Python 3"
    },
    "language_info": {
      "name": "python"
    }
  },
  "cells": [
    {
      "cell_type": "markdown",
      "metadata": {
        "id": "view-in-github",
        "colab_type": "text"
      },
      "source": [
        "<a href=\"https://colab.research.google.com/github/cristiansaso23/Display-OLED/blob/main/Copia_de_prueba.ipynb\" target=\"_parent\"><img src=\"https://colab.research.google.com/assets/colab-badge.svg\" alt=\"Open In Colab\"/></a>"
      ]
    },
    {
      "cell_type": "code",
      "execution_count": null,
      "metadata": {
        "id": "Nu7qvvh1QFUk"
      },
      "outputs": [],
      "source": [
        "import requests"
      ]
    },
    {
      "cell_type": "code",
      "source": [
        "api = \"https://restcountries.com/v3.1/name/argentina\"\n",
        "respuesta = requests.get(api)\n",
        "respuesta_json = respuesta.json()\n",
        "print(respuesta_json)"
      ],
      "metadata": {
        "id": "DFozxS1JRc5m",
        "colab": {
          "base_uri": "https://localhost:8080/"
        },
        "outputId": "8eea37b0-7578-49bc-c1ed-a937e9a75530"
      },
      "execution_count": null,
      "outputs": [
        {
          "output_type": "stream",
          "name": "stdout",
          "text": [
            "[{'name': {'common': 'Argentina', 'official': 'Argentine Republic', 'nativeName': {'grn': {'official': 'Argentine Republic', 'common': 'Argentina'}, 'spa': {'official': 'República Argentina', 'common': 'Argentina'}}}, 'tld': ['.ar'], 'cca2': 'AR', 'ccn3': '032', 'cioc': 'ARG', 'independent': True, 'status': 'officially-assigned', 'unMember': True, 'currencies': {'ARS': {'symbol': '$', 'name': 'Argentine peso'}}, 'idd': {'root': '+5', 'suffixes': ['4']}, 'capital': ['Buenos Aires'], 'altSpellings': ['AR', 'Argentine Republic', 'República Argentina'], 'region': 'Americas', 'subregion': 'South America', 'languages': {'grn': 'Guaraní', 'spa': 'Spanish'}, 'latlng': [-34.0, -64.0], 'landlocked': False, 'borders': ['BOL', 'BRA', 'CHL', 'PRY', 'URY'], 'area': 2780400.0, 'demonyms': {'eng': {'f': 'Argentine', 'm': 'Argentine'}, 'fra': {'f': 'Argentine', 'm': 'Argentin'}}, 'cca3': 'ARG', 'translations': {'ara': {'official': 'جمهورية الأرجنتين', 'common': 'الأرجنتين'}, 'bre': {'official': \"Republik Arc'hantina\", 'common': \"Arc'hantina\"}, 'ces': {'official': 'Argentinská republika', 'common': 'Argentina'}, 'cym': {'official': 'Gweriniaeth yr Ariannin', 'common': 'Ariannin'}, 'deu': {'official': 'Argentinische Republik', 'common': 'Argentinien'}, 'est': {'official': 'Argentina Vabariik', 'common': 'Argentina'}, 'fin': {'official': 'Argentiinan tasavalta', 'common': 'Argentiina'}, 'fra': {'official': 'République argentine', 'common': 'Argentine'}, 'hrv': {'official': 'Argentinski Republika', 'common': 'Argentina'}, 'hun': {'official': 'Argentin Köztársaság', 'common': 'Argentína'}, 'ind': {'official': 'Republik Argentina', 'common': 'Argentina'}, 'ita': {'official': 'Repubblica Argentina', 'common': 'Argentina'}, 'jpn': {'official': 'アルゼンチン共和国', 'common': 'アルゼンチン'}, 'kor': {'official': '아르헨티나 공화국', 'common': '아르헨티나'}, 'nld': {'official': 'Argentijnse Republiek', 'common': 'Argentinië'}, 'per': {'official': 'جمهوری آرژانتین', 'common': 'آرژانتین'}, 'pol': {'official': 'Republika Argentyńska', 'common': 'Argentyna'}, 'por': {'official': 'República Argentina', 'common': 'Argentina'}, 'rus': {'official': 'Аргентинская Республика', 'common': 'Аргентина'}, 'slk': {'official': 'Argentínska republika', 'common': 'Argentína'}, 'spa': {'official': 'República Argentina', 'common': 'Argentina'}, 'srp': {'official': 'Аргентинска Република', 'common': 'Аргентина'}, 'swe': {'official': 'Republiken Argentina', 'common': 'Argentina'}, 'tur': {'official': 'Arjantin Cumhuriyeti', 'common': 'Arjantin'}, 'urd': {'official': 'جمہوریہ ارجنٹائن', 'common': 'ارجنٹائن'}, 'zho': {'official': '阿根廷共和国', 'common': '阿根廷'}}, 'flag': '🇦🇷', 'maps': {'googleMaps': 'https://goo.gl/maps/Z9DXNxhf2o93kvyc6', 'openStreetMaps': 'https://www.openstreetmap.org/relation/286393'}, 'population': 45376763, 'gini': {'2019': 42.9}, 'fifa': 'ARG', 'car': {'signs': ['RA'], 'side': 'right'}, 'timezones': ['UTC-03:00'], 'continents': ['South America'], 'flags': {'png': 'https://flagcdn.com/w320/ar.png', 'svg': 'https://flagcdn.com/ar.svg', 'alt': 'The flag of Argentina features three equal horizontal bands of light blue, white and light blue. A brown-edged golden sun is centered in the white band.'}, 'coatOfArms': {'png': 'https://mainfacts.com/media/images/coats_of_arms/ar.png', 'svg': 'https://mainfacts.com/media/images/coats_of_arms/ar.svg'}, 'startOfWeek': 'monday', 'capitalInfo': {'latlng': [-34.58, -58.67]}, 'postalCode': {'format': '@####@@@', 'regex': '^([A-Z]\\\\d{4}[A-Z]{3})$'}}]\n"
          ]
        }
      ]
    },
    {
      "cell_type": "code",
      "source": [
        "type(respuesta_json)"
      ],
      "metadata": {
        "colab": {
          "base_uri": "https://localhost:8080/"
        },
        "id": "mfZeHumsUVGC",
        "outputId": "1c5ffa6b-c7a2-4197-9651-f05544591fff"
      },
      "execution_count": null,
      "outputs": [
        {
          "output_type": "execute_result",
          "data": {
            "text/plain": [
              "list"
            ]
          },
          "metadata": {},
          "execution_count": 6
        }
      ]
    },
    {
      "cell_type": "code",
      "source": [
        "len(respuesta_json)"
      ],
      "metadata": {
        "colab": {
          "base_uri": "https://localhost:8080/"
        },
        "id": "07UGJgPDUdEV",
        "outputId": "cc73ba8c-3403-402c-c6d4-2297215c1613"
      },
      "execution_count": null,
      "outputs": [
        {
          "output_type": "execute_result",
          "data": {
            "text/plain": [
              "1"
            ]
          },
          "metadata": {},
          "execution_count": 7
        }
      ]
    },
    {
      "cell_type": "code",
      "source": [
        "respuesta_json[0]"
      ],
      "metadata": {
        "colab": {
          "base_uri": "https://localhost:8080/"
        },
        "id": "VGfPoFbDUmaW",
        "outputId": "202701b2-c022-49fc-d1cd-81865a8a9d74"
      },
      "execution_count": null,
      "outputs": [
        {
          "output_type": "execute_result",
          "data": {
            "text/plain": [
              "{'name': {'common': 'Argentina',\n",
              "  'official': 'Argentine Republic',\n",
              "  'nativeName': {'grn': {'official': 'Argentine Republic',\n",
              "    'common': 'Argentina'},\n",
              "   'spa': {'official': 'República Argentina', 'common': 'Argentina'}}},\n",
              " 'tld': ['.ar'],\n",
              " 'cca2': 'AR',\n",
              " 'ccn3': '032',\n",
              " 'cioc': 'ARG',\n",
              " 'independent': True,\n",
              " 'status': 'officially-assigned',\n",
              " 'unMember': True,\n",
              " 'currencies': {'ARS': {'symbol': '$', 'name': 'Argentine peso'}},\n",
              " 'idd': {'root': '+5', 'suffixes': ['4']},\n",
              " 'capital': ['Buenos Aires'],\n",
              " 'altSpellings': ['AR', 'Argentine Republic', 'República Argentina'],\n",
              " 'region': 'Americas',\n",
              " 'subregion': 'South America',\n",
              " 'languages': {'grn': 'Guaraní', 'spa': 'Spanish'},\n",
              " 'latlng': [-34.0, -64.0],\n",
              " 'landlocked': False,\n",
              " 'borders': ['BOL', 'BRA', 'CHL', 'PRY', 'URY'],\n",
              " 'area': 2780400.0,\n",
              " 'demonyms': {'eng': {'f': 'Argentine', 'm': 'Argentine'},\n",
              "  'fra': {'f': 'Argentine', 'm': 'Argentin'}},\n",
              " 'cca3': 'ARG',\n",
              " 'translations': {'ara': {'official': 'جمهورية الأرجنتين',\n",
              "   'common': 'الأرجنتين'},\n",
              "  'bre': {'official': \"Republik Arc'hantina\", 'common': \"Arc'hantina\"},\n",
              "  'ces': {'official': 'Argentinská republika', 'common': 'Argentina'},\n",
              "  'cym': {'official': 'Gweriniaeth yr Ariannin', 'common': 'Ariannin'},\n",
              "  'deu': {'official': 'Argentinische Republik', 'common': 'Argentinien'},\n",
              "  'est': {'official': 'Argentina Vabariik', 'common': 'Argentina'},\n",
              "  'fin': {'official': 'Argentiinan tasavalta', 'common': 'Argentiina'},\n",
              "  'fra': {'official': 'République argentine', 'common': 'Argentine'},\n",
              "  'hrv': {'official': 'Argentinski Republika', 'common': 'Argentina'},\n",
              "  'hun': {'official': 'Argentin Köztársaság', 'common': 'Argentína'},\n",
              "  'ind': {'official': 'Republik Argentina', 'common': 'Argentina'},\n",
              "  'ita': {'official': 'Repubblica Argentina', 'common': 'Argentina'},\n",
              "  'jpn': {'official': 'アルゼンチン共和国', 'common': 'アルゼンチン'},\n",
              "  'kor': {'official': '아르헨티나 공화국', 'common': '아르헨티나'},\n",
              "  'nld': {'official': 'Argentijnse Republiek', 'common': 'Argentinië'},\n",
              "  'per': {'official': 'جمهوری آرژانتین', 'common': 'آرژانتین'},\n",
              "  'pol': {'official': 'Republika Argentyńska', 'common': 'Argentyna'},\n",
              "  'por': {'official': 'República Argentina', 'common': 'Argentina'},\n",
              "  'rus': {'official': 'Аргентинская Республика', 'common': 'Аргентина'},\n",
              "  'slk': {'official': 'Argentínska republika', 'common': 'Argentína'},\n",
              "  'spa': {'official': 'República Argentina', 'common': 'Argentina'},\n",
              "  'srp': {'official': 'Аргентинска Република', 'common': 'Аргентина'},\n",
              "  'swe': {'official': 'Republiken Argentina', 'common': 'Argentina'},\n",
              "  'tur': {'official': 'Arjantin Cumhuriyeti', 'common': 'Arjantin'},\n",
              "  'urd': {'official': 'جمہوریہ ارجنٹائن', 'common': 'ارجنٹائن'},\n",
              "  'zho': {'official': '阿根廷共和国', 'common': '阿根廷'}},\n",
              " 'flag': '🇦🇷',\n",
              " 'maps': {'googleMaps': 'https://goo.gl/maps/Z9DXNxhf2o93kvyc6',\n",
              "  'openStreetMaps': 'https://www.openstreetmap.org/relation/286393'},\n",
              " 'population': 45376763,\n",
              " 'gini': {'2019': 42.9},\n",
              " 'fifa': 'ARG',\n",
              " 'car': {'signs': ['RA'], 'side': 'right'},\n",
              " 'timezones': ['UTC-03:00'],\n",
              " 'continents': ['South America'],\n",
              " 'flags': {'png': 'https://flagcdn.com/w320/ar.png',\n",
              "  'svg': 'https://flagcdn.com/ar.svg',\n",
              "  'alt': 'The flag of Argentina features three equal horizontal bands of light blue, white and light blue. A brown-edged golden sun is centered in the white band.'},\n",
              " 'coatOfArms': {'png': 'https://mainfacts.com/media/images/coats_of_arms/ar.png',\n",
              "  'svg': 'https://mainfacts.com/media/images/coats_of_arms/ar.svg'},\n",
              " 'startOfWeek': 'monday',\n",
              " 'capitalInfo': {'latlng': [-34.58, -58.67]},\n",
              " 'postalCode': {'format': '@####@@@', 'regex': '^([A-Z]\\\\d{4}[A-Z]{3})$'}}"
            ]
          },
          "metadata": {},
          "execution_count": 8
        }
      ]
    },
    {
      "cell_type": "code",
      "source": [
        "URSS = {\n",
        "\n",
        "             \"Año\": [1928,1929,1930,1931,1932,1933,1934,1935,1936,1937],\n",
        "             \"PIB URSS en dolares de 1990\": [231886,238392,231886,231886,231886,231886,231886,231886,231886,231886],\n",
        "             \"Indice\": [100,100,100,100,100,100,100,100,100,100],\n",
        "             \"Tasa de crecimiento anual\": [0,3,6,6,6,6,6,6,6,6],\n",
        "\n",
        "}\n",
        "print(URSS)"
      ],
      "metadata": {
        "colab": {
          "base_uri": "https://localhost:8080/"
        },
        "id": "cEZefARaVdqb",
        "outputId": "01932a6d-c65c-4522-9e5d-2332817868b6"
      },
      "execution_count": null,
      "outputs": [
        {
          "output_type": "stream",
          "name": "stdout",
          "text": [
            "{'Año': [1928, 1929, 1930, 1931, 1932, 1933, 1934, 1935, 1936, 1937], 'PIB URSS en dolares de 1990': [231886, 238392, 231886, 231886, 231886, 231886, 231886, 231886, 231886, 231886], 'Indice': [100, 100, 100, 100, 100, 100, 100, 100, 100, 100], 'Tasa de crecimiento anual': [0, 3, 6, 6, 6, 6, 6, 6, 6, 6]}\n"
          ]
        }
      ]
    },
    {
      "cell_type": "code",
      "source": [
        "# Crea un diccionario que represente un estudiante con nombre, edad y curso\n",
        "estudiante = {\n",
        "    \"nombre\": \"Juan\",\n",
        "    \"edad\": 20,\n",
        "    \"curso\": \"Ingeniería\"\n",
        "}"
      ],
      "metadata": {
        "id": "a2WV1x58XwPA"
      },
      "execution_count": null,
      "outputs": []
    },
    {
      "cell_type": "code",
      "source": [
        "# Imprime el valor asociado a \"nombre\"\n",
        "# Cambia la edad del estudiante a 21\n",
        "# Agregar nuevo par clave-valor\n",
        "# Eliminar clave 'curso'"
      ],
      "metadata": {
        "id": "vL-y1wjrYMlv"
      },
      "execution_count": null,
      "outputs": []
    },
    {
      "cell_type": "code",
      "source": [
        "print(estudiante)"
      ],
      "metadata": {
        "colab": {
          "base_uri": "https://localhost:8080/"
        },
        "id": "D3JNHNwjY3U5",
        "outputId": "235cfa29-80ab-4369-ffb9-168860648a4f"
      },
      "execution_count": null,
      "outputs": [
        {
          "output_type": "stream",
          "name": "stdout",
          "text": [
            "{'nombre': 'Juan', 'edad': 20, 'curso': 'Ingeniería'}\n"
          ]
        }
      ]
    },
    {
      "cell_type": "code",
      "source": [
        "print(estudiante[\"nombre\"])"
      ],
      "metadata": {
        "colab": {
          "base_uri": "https://localhost:8080/"
        },
        "id": "5pxxqte2ZRlT",
        "outputId": "84e44ed6-c7b2-41a8-a4c4-2e9587b5021b"
      },
      "execution_count": null,
      "outputs": [
        {
          "output_type": "stream",
          "name": "stdout",
          "text": [
            "Juan\n"
          ]
        }
      ]
    },
    {
      "cell_type": "code",
      "source": [
        "estudiante[\"edad\"] = 21"
      ],
      "metadata": {
        "id": "LtQIbpu7Z0ZS"
      },
      "execution_count": null,
      "outputs": []
    },
    {
      "cell_type": "code",
      "source": [
        "print(estudiante)"
      ],
      "metadata": {
        "colab": {
          "base_uri": "https://localhost:8080/"
        },
        "id": "etGti2WhaK9Z",
        "outputId": "6a54cede-6b6a-40b3-b226-2607fab6b151"
      },
      "execution_count": null,
      "outputs": [
        {
          "output_type": "stream",
          "name": "stdout",
          "text": [
            "{'nombre': 'Juan', 'edad': 21, 'curso': 'Ingeniería'}\n"
          ]
        }
      ]
    },
    {
      "cell_type": "code",
      "source": [
        "estudiante[\"nota\"]= 8"
      ],
      "metadata": {
        "id": "jsYluwVgbD0R"
      },
      "execution_count": null,
      "outputs": []
    },
    {
      "cell_type": "code",
      "source": [
        "print(estudiante)"
      ],
      "metadata": {
        "colab": {
          "base_uri": "https://localhost:8080/"
        },
        "id": "yL065tX3bL_I",
        "outputId": "d68fb4ca-8c9d-4304-c053-a262923a1121"
      },
      "execution_count": null,
      "outputs": [
        {
          "output_type": "stream",
          "name": "stdout",
          "text": [
            "{'nombre': 'Juan', 'edad': 21, 'curso': 'Ingeniería', 'nota': 8}\n"
          ]
        }
      ]
    },
    {
      "cell_type": "code",
      "source": [
        "del estudiante[\"curso\"]"
      ],
      "metadata": {
        "id": "-WpDA4O1bhqI"
      },
      "execution_count": null,
      "outputs": []
    },
    {
      "cell_type": "code",
      "source": [
        "print(estudiante)"
      ],
      "metadata": {
        "colab": {
          "base_uri": "https://localhost:8080/"
        },
        "id": "zyreyhE1bpF5",
        "outputId": "91bdd93b-25fe-46e9-e50a-d39834f0f576"
      },
      "execution_count": null,
      "outputs": [
        {
          "output_type": "stream",
          "name": "stdout",
          "text": [
            "{'nombre': 'Juan', 'edad': 21, 'nota': 8}\n"
          ]
        }
      ]
    }
  ]
}