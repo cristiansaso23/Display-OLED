{
  "nbformat": 4,
  "nbformat_minor": 0,
  "metadata": {
    "colab": {
      "provenance": [],
      "include_colab_link": true
    },
    "kernelspec": {
      "name": "python3",
      "display_name": "Python 3"
    },
    "language_info": {
      "name": "python"
    }
  },
  "cells": [
    {
      "cell_type": "markdown",
      "metadata": {
        "id": "view-in-github",
        "colab_type": "text"
      },
      "source": [
        "<a href=\"https://colab.research.google.com/github/cristiansaso23/Display-OLED/blob/main/Copia_de_Funciones.ipynb\" target=\"_parent\"><img src=\"https://colab.research.google.com/assets/colab-badge.svg\" alt=\"Open In Colab\"/></a>"
      ]
    },
    {
      "cell_type": "markdown",
      "source": [
        "# **Funciones**"
      ],
      "metadata": {
        "id": "gSWfphdwJJE5"
      }
    },
    {
      "cell_type": "markdown",
      "source": [
        "**Concepto**:\n",
        "\n",
        "Una función es un bloque de código organizado y reutilizable que realiza una acción específica. Piensa en ellas como \"mini-programas\" dentro de tu programa principal.\n",
        "\n",
        "**Analogía**:\n",
        "* Una receta de cocina: sigues unos pasos (el código) para obtener un resultado (el retorno de la función).\n",
        "* Un botón en un control remoto: cada botón realiza una acción específica cuando lo presionas.\n",
        "* Un empleado especializado: le das una tarea (argumentos) y te devuelve un resultado.\n",
        "\n",
        "### **¿Por Qué Usar Funciones?**\n",
        "\n",
        "* Reutilización de Código: Escribe el código una vez y úsalo múltiples veces en diferentes partes de tu programa o incluso en otros programas. *Ejemplo: Si necesitas calcular el IVA de varios productos, creas una función calcular_iva() y la llamas para cada producto.*\n",
        "* Modularidad: Divide un programa complejo en partes más pequeñas y manejables. Cada función se encarga de una tarea específica.\n",
        "*Ejemplo: Un programa de gestión de clientes podría tener funciones para agregar_cliente(), buscar_cliente(), eliminar_cliente().*\n",
        "* Legibilidad y Mantenimiento: El código se vuelve más fácil de leer, entender y modificar. Si necesitas cambiar cómo se realiza una tarea, solo modificas la función correspondiente.\n",
        "* Abstracción: Ocultan los detalles de implementación. Solo necesitas saber qué hace la función y qué necesita para funcionar, no necesariamente cómo lo hace internamente.\n",
        "\n",
        "### **Sintaxis Básica de una Función en Python**\n",
        "\n",
        "![sintesis](https://i0.wp.com/holamundo.io/wp-content/uploads/2023/02/funct4-1.png?resize=1024%2C406&ssl=1)"
      ],
      "metadata": {
        "id": "07yo8VO0L7ik"
      }
    },
    {
      "cell_type": "code",
      "source": [
        "# Sintaxis básica\n",
        "def nombre_de_la_funcion(parametro1, parametro2):\n",
        "  # Cuerpo de la función (código indentado)\n",
        "  resultado = parametro1 + parametro2\n",
        "  return resultado"
      ],
      "metadata": {
        "id": "VbVia0YSLpg9"
      },
      "execution_count": null,
      "outputs": []
    },
    {
      "cell_type": "code",
      "source": [
        "# Ejemplo de llamada\n",
        "suma = nombre_de_la_funcion(5, 3)\n",
        "print(suma)"
      ],
      "metadata": {
        "id": "89sYC48uKczX",
        "colab": {
          "base_uri": "https://localhost:8080/"
        },
        "outputId": "b1870601-1142-4743-f6bd-667322f4b677"
      },
      "execution_count": null,
      "outputs": [
        {
          "output_type": "stream",
          "name": "stdout",
          "text": [
            "8\n"
          ]
        }
      ]
    },
    {
      "cell_type": "code",
      "source": [
        "def saludar(nombre):\n",
        "  print(f\"¡Hola, {nombre}!\")\n",
        "\n",
        "saludar(\"Ana\") # \"Ana\" es un argumento\n",
        "saludar(\"Carlos\")"
      ],
      "metadata": {
        "id": "t7MnLWvMMYRA",
        "colab": {
          "base_uri": "https://localhost:8080/"
        },
        "outputId": "17b2d4f4-806f-4f00-80fa-d2d0972c8712"
      },
      "execution_count": null,
      "outputs": [
        {
          "output_type": "stream",
          "name": "stdout",
          "text": [
            "¡Hola, Ana!\n",
            "¡Hola, Carlos!\n"
          ]
        }
      ]
    },
    {
      "cell_type": "markdown",
      "source": [
        "# Parametros"
      ],
      "metadata": {
        "id": "ZUZVa3-XOWWI"
      }
    },
    {
      "cell_type": "markdown",
      "source": [
        "**Argumentos Posicionales:** Se asignan a los parámetros según su orden."
      ],
      "metadata": {
        "id": "aw28JZzWNOPE"
      }
    },
    {
      "cell_type": "code",
      "source": [
        "def describir_mascota(tipo_animal, nombre_mascota):\n",
        "  print(f\"Tengo un {tipo_animal} llamado {nombre_mascota}.\")\n",
        "\n",
        "describir_mascota(\"perro\", \"Fido\")"
      ],
      "metadata": {
        "id": "7UpMnzKtNMWc",
        "colab": {
          "base_uri": "https://localhost:8080/"
        },
        "outputId": "ed17de4d-668e-4b53-9b91-e5ebcb6df37a"
      },
      "execution_count": null,
      "outputs": [
        {
          "output_type": "stream",
          "name": "stdout",
          "text": [
            "Tengo un perro llamado Fido.\n"
          ]
        }
      ]
    },
    {
      "cell_type": "code",
      "source": [
        "describir_mascota('pez','nemo')"
      ],
      "metadata": {
        "colab": {
          "base_uri": "https://localhost:8080/"
        },
        "id": "5E_BueUE0_tB",
        "outputId": "42729a2e-aa8b-4e57-a536-ac44971063b2"
      },
      "execution_count": null,
      "outputs": [
        {
          "output_type": "stream",
          "name": "stdout",
          "text": [
            "Tengo un pez llamado nemo.\n"
          ]
        }
      ]
    },
    {
      "cell_type": "markdown",
      "source": [
        "**Argumentos por Nombre (Keyword Arguments):** Se especifica el nombre del parámetro al pasar el argumento. El orden no importa."
      ],
      "metadata": {
        "id": "9QzAupdNNa41"
      }
    },
    {
      "cell_type": "code",
      "source": [
        "describir_mascota(nombre_mascota=\"Bigotes\", tipo_animal=\"gato\")"
      ],
      "metadata": {
        "id": "HHq81Q4TNb5p",
        "colab": {
          "base_uri": "https://localhost:8080/"
        },
        "outputId": "d3d7ee42-33a5-4f6e-9061-24ffce2a0b90"
      },
      "execution_count": null,
      "outputs": [
        {
          "output_type": "stream",
          "name": "stdout",
          "text": [
            "Tengo un gato llamado Bigotes.\n"
          ]
        }
      ]
    },
    {
      "cell_type": "markdown",
      "source": [
        "**Parámetros por Defecto:** Puedes asignar un valor por defecto a un parámetro en la definición de la función. Si no se pasa un argumento para ese parámetro al llamar la función, se usará el valor por defecto.\n"
      ],
      "metadata": {
        "id": "mt9r9UeaNe8w"
      }
    },
    {
      "cell_type": "code",
      "source": [
        "def potencia(base, exponente=2):\n",
        "  return base ** exponente\n",
        "\n",
        "potencia(3)"
      ],
      "metadata": {
        "id": "zu6yATUsNiEI",
        "colab": {
          "base_uri": "https://localhost:8080/"
        },
        "outputId": "072592f6-2f9e-4535-acf5-b52cf990b820"
      },
      "execution_count": null,
      "outputs": [
        {
          "output_type": "execute_result",
          "data": {
            "text/plain": [
              "9"
            ]
          },
          "metadata": {},
          "execution_count": 13
        }
      ]
    },
    {
      "cell_type": "code",
      "source": [
        "potencia(2,3)"
      ],
      "metadata": {
        "colab": {
          "base_uri": "https://localhost:8080/"
        },
        "id": "KWTNU0qZ3mw7",
        "outputId": "c0844688-903b-469b-faf0-903a3ddd705c"
      },
      "execution_count": null,
      "outputs": [
        {
          "output_type": "execute_result",
          "data": {
            "text/plain": [
              "8"
            ]
          },
          "metadata": {},
          "execution_count": 14
        }
      ]
    },
    {
      "cell_type": "code",
      "source": [
        "potencia(10)"
      ],
      "metadata": {
        "colab": {
          "base_uri": "https://localhost:8080/"
        },
        "id": "vHm0zY383siM",
        "outputId": "58872975-3291-4fb8-a102-4d0236ad9a22"
      },
      "execution_count": null,
      "outputs": [
        {
          "output_type": "execute_result",
          "data": {
            "text/plain": [
              "100"
            ]
          },
          "metadata": {},
          "execution_count": 15
        }
      ]
    },
    {
      "cell_type": "code",
      "source": [
        "potencia(5,10)"
      ],
      "metadata": {
        "colab": {
          "base_uri": "https://localhost:8080/"
        },
        "id": "h0LCD9Un1skT",
        "outputId": "5f256f0e-5b52-4591-8d53-8c3af3ee79fc"
      },
      "execution_count": null,
      "outputs": [
        {
          "output_type": "execute_result",
          "data": {
            "text/plain": [
              "9765625"
            ]
          },
          "metadata": {},
          "execution_count": 12
        }
      ]
    },
    {
      "cell_type": "markdown",
      "source": [
        "**Argumentos Variables:**\n",
        "    \n",
        "* `*args` (Argumentos posicionales variables): Permite pasar un número variable de argumentos posicionales. Dentro de la función, `args` será una **tupla** con todos los argumentos posicionales extra."
      ],
      "metadata": {
        "id": "ydH8W-LqNsE6"
      }
    },
    {
      "cell_type": "code",
      "source": [
        "[1,2,3] #lista\n",
        " #tupla"
      ],
      "metadata": {
        "id": "_9WE1uBe361F"
      },
      "execution_count": null,
      "outputs": []
    },
    {
      "cell_type": "code",
      "source": [
        "def sumar_todos(*numeros): # 'numeros' será una tupla\n",
        "  total = 0\n",
        "  for num in numeros:\n",
        "      total = total + num\n",
        "  return total\n",
        "\n",
        "calculadora = sumar_todos(1, 2, 3)\n",
        "calculadora"
      ],
      "metadata": {
        "id": "ZVOWHXfVNvSQ",
        "colab": {
          "base_uri": "https://localhost:8080/"
        },
        "outputId": "3fffc83c-7096-4ee7-daf6-8711aff5d2c6"
      },
      "execution_count": null,
      "outputs": [
        {
          "output_type": "execute_result",
          "data": {
            "text/plain": [
              "6"
            ]
          },
          "metadata": {},
          "execution_count": 17
        }
      ]
    },
    {
      "cell_type": "code",
      "source": [
        "calculadora2 = sumar_todos(10, 20, 30, 40)\n",
        "calculadora2"
      ],
      "metadata": {
        "colab": {
          "base_uri": "https://localhost:8080/"
        },
        "id": "P6u2q5Fo4XEF",
        "outputId": "4d35d3fb-b8bc-4240-ae1c-1f2f8ebf9c38"
      },
      "execution_count": null,
      "outputs": [
        {
          "output_type": "execute_result",
          "data": {
            "text/plain": [
              "100"
            ]
          },
          "metadata": {},
          "execution_count": 20
        }
      ]
    },
    {
      "cell_type": "markdown",
      "source": [
        "* `**kwargs` (Argumentos por nombre variables): Permite pasar un número variable de argumentos por nombre. Dentro de la función, `kwargs` será un **diccionario** con estos argumentos.\n"
      ],
      "metadata": {
        "id": "0DjM6oaHN-6K"
      }
    },
    {
      "cell_type": "code",
      "source": [
        "def imprimir_info_usuario(**datos_usuario): # 'datos_usuario' será un diccionario\n",
        "    for clave, valor in datos_usuario.items():\n",
        "        print(f\"{clave.replace('_', ' ').title()}: {valor}\")\n",
        "\n",
        "imprimir_info_usuario(nombre=\"Laura\", edad=30, ciudad=\"Buenos Aires\",provincia='Tucucity')"
      ],
      "metadata": {
        "colab": {
          "base_uri": "https://localhost:8080/"
        },
        "id": "-1bO2mQCN-Op",
        "outputId": "58592678-b369-4f28-88ec-28120de435bc"
      },
      "execution_count": null,
      "outputs": [
        {
          "output_type": "stream",
          "name": "stdout",
          "text": [
            "Nombre: Laura\n",
            "Edad: 30\n",
            "Ciudad: Buenos Aires\n",
            "Provincia: Tucucity\n"
          ]
        }
      ]
    },
    {
      "cell_type": "markdown",
      "source": [
        "# **Sentencia return**"
      ],
      "metadata": {
        "id": "FgpCp02VOb2v"
      }
    },
    {
      "cell_type": "markdown",
      "source": [
        "* Se utiliza para que una función devuelva un valor (o varios) al código que la llamó.\n",
        "* Cuando se ejecuta return, la función termina inmediatamente."
      ],
      "metadata": {
        "id": "NPAftT0kOs0m"
      }
    },
    {
      "cell_type": "markdown",
      "source": [
        "* **Devolver un único valor**"
      ],
      "metadata": {
        "id": "1GEA2AfVO32x"
      }
    },
    {
      "cell_type": "code",
      "source": [
        "def calcular_area_circulo(radio):\n",
        "  area = 3.14159 * radio ** 2\n",
        "  return area\n",
        "\n",
        "area_mi_circulo = calcular_area_circulo(10)\n",
        "print(f\"El área es: {area_mi_circulo}\")"
      ],
      "metadata": {
        "colab": {
          "base_uri": "https://localhost:8080/"
        },
        "id": "XKzD4_LLOqjS",
        "outputId": "9d726f34-daac-41a9-b01e-19ba72c9205c"
      },
      "execution_count": null,
      "outputs": [
        {
          "output_type": "stream",
          "name": "stdout",
          "text": [
            "El área es: 314.159\n"
          ]
        }
      ]
    },
    {
      "cell_type": "markdown",
      "source": [
        "* **Devolver Múltiples Valores:** Python lo hace devolviendo una tupla (aunque no necesites escribir los paréntesis explícitamente)."
      ],
      "metadata": {
        "id": "4uRg-443OxtH"
      }
    },
    {
      "cell_type": "code",
      "source": [
        "def obtener_coordenadas():\n",
        "        x = 10\n",
        "        y = 20\n",
        "        z = 5\n",
        "        return x, y, z # Devuelve la tupla (10, 20, 5)\n",
        "\n",
        "coord_x, coord_y, coord_z = obtener_coordenadas()\n",
        "print(f\"X: {coord_x}, Y: {coord_y}, Z: {coord_z}\")"
      ],
      "metadata": {
        "colab": {
          "base_uri": "https://localhost:8080/"
        },
        "id": "KfubDfaWOyLe",
        "outputId": "58aaddc2-cd8a-47de-eb39-b5f36b9f6f0d"
      },
      "execution_count": null,
      "outputs": [
        {
          "output_type": "stream",
          "name": "stdout",
          "text": [
            "X: 10, Y: 20, Z: 5\n"
          ]
        }
      ]
    },
    {
      "cell_type": "code",
      "source": [
        "# También puedes obtener la tupla completa\n",
        "coordenadas_completas = obtener_coordenadas()\n",
        "print(coordenadas_completas)"
      ],
      "metadata": {
        "colab": {
          "base_uri": "https://localhost:8080/"
        },
        "id": "wXw1_vpBPIbn",
        "outputId": "863b198b-ff33-4b97-b0ab-a9fc1522aed5"
      },
      "execution_count": null,
      "outputs": [
        {
          "output_type": "stream",
          "name": "stdout",
          "text": [
            "(10, 20, 5)\n"
          ]
        }
      ]
    },
    {
      "cell_type": "markdown",
      "source": [
        "**Funciones sin `return` explícito:** Si una función no tiene una sentencia `return`, o tiene `return` sin un valor, devuelve `None` por defecto.\n"
      ],
      "metadata": {
        "id": "1SSQKq8IPSki"
      }
    },
    {
      "cell_type": "code",
      "source": [
        "def saludo_simple(nombre):\n",
        "  print(f\"Hola, {nombre}\") # Esta función no devuelve nada explícitamente\n",
        "\n",
        "resultado = saludo_simple(\"Mundo\")\n",
        "print(resultado)"
      ],
      "metadata": {
        "colab": {
          "base_uri": "https://localhost:8080/"
        },
        "id": "5oivZUnEPV8h",
        "outputId": "81b83836-e911-44ff-d0fe-925a57a5bfbc"
      },
      "execution_count": null,
      "outputs": [
        {
          "output_type": "stream",
          "name": "stdout",
          "text": [
            "Hola, Mundo\n",
            "None\n"
          ]
        }
      ]
    },
    {
      "cell_type": "markdown",
      "source": [
        "# **Ámbito de las Variables**\n"
      ],
      "metadata": {
        "id": "grxYV3FiPq-8"
      }
    },
    {
      "cell_type": "markdown",
      "source": [
        "El ámbito de una variable define la parte del programa donde una variable es accesible."
      ],
      "metadata": {
        "id": "MJsa4XcIQJyF"
      }
    },
    {
      "cell_type": "markdown",
      "source": [
        "1. Variables Locales:\n",
        "* Se definen dentro de una función.\n",
        "* Solo son accesibles desde dentro de esa función.\n",
        "* Se crean cuando la función es llamada y se destruyen cuando la función termin"
      ],
      "metadata": {
        "id": "BTkzpOzIP0o6"
      }
    },
    {
      "cell_type": "code",
      "source": [
        "def mi_funcion_local():\n",
        "  x = 10 # x es una variable local\n",
        "  print(f\"Dentro de la función, x es: {x}\")\n",
        "\n",
        "mi_funcion_local()"
      ],
      "metadata": {
        "colab": {
          "base_uri": "https://localhost:8080/"
        },
        "id": "4iLbLWOhPybm",
        "outputId": "c5a501b4-e414-479b-9c60-9b4e3ff2cdd9"
      },
      "execution_count": null,
      "outputs": [
        {
          "output_type": "stream",
          "name": "stdout",
          "text": [
            "Dentro de la función, x es: 10\n"
          ]
        }
      ]
    },
    {
      "cell_type": "markdown",
      "source": [
        "2. Variables Globales:\n",
        "* Se definen fuera de todas las funciones, en el cuerpo principal del script.\n",
        "* Son accesibles desde cualquier parte del código, tanto dentro como fuera de las funciones (para lectura)."
      ],
      "metadata": {
        "id": "Lul4_elrQCyz"
      }
    },
    {
      "cell_type": "code",
      "source": [
        "y = 100 # y es una variable global\n",
        "\n",
        "def mi_funcion_global_lectura():\n",
        "    print(f\"Dentro de la función, y es: {y}\")\n",
        "\n",
        "def mi_funcion_intenta_modificar_global():\n",
        "    z_local = y + 10\n",
        "    print(f\"Dentro, z_local (y global + 10) es: {z_local}\")\n",
        "\n",
        "mi_funcion_global_lectura()"
      ],
      "metadata": {
        "colab": {
          "base_uri": "https://localhost:8080/"
        },
        "id": "W9B2XpOxP5mT",
        "outputId": "2f395d81-1d88-49a5-ef7d-437bff5e02c3"
      },
      "execution_count": null,
      "outputs": [
        {
          "output_type": "stream",
          "name": "stdout",
          "text": [
            "Dentro de la función, y es: 100\n"
          ]
        }
      ]
    },
    {
      "cell_type": "code",
      "source": [
        "mi_funcion_intenta_modificar_global()"
      ],
      "metadata": {
        "colab": {
          "base_uri": "https://localhost:8080/"
        },
        "id": "0H6LPXm68xWZ",
        "outputId": "8bba58e9-d7dc-4bea-d42c-4fa78bdc632b"
      },
      "execution_count": null,
      "outputs": [
        {
          "output_type": "stream",
          "name": "stdout",
          "text": [
            "Dentro, z_local (y global + 10) es: 110\n"
          ]
        }
      ]
    },
    {
      "cell_type": "markdown",
      "source": [
        "# **Ejercicios**"
      ],
      "metadata": {
        "id": "Am6-18WtQioW"
      }
    },
    {
      "cell_type": "code",
      "source": [
        "'''\n",
        "Hacer una funcion para convertir grado Celsius a Fahrenheit llamada convertToFahrenheit() con degreesCelsius como parametro\n",
        "'''\n"
      ],
      "metadata": {
        "colab": {
          "base_uri": "https://localhost:8080/",
          "height": 36
        },
        "collapsed": true,
        "id": "6UntIQlSQneZ",
        "outputId": "e4d2e35d-7665-41b6-d878-d1cc1a0bffc5"
      },
      "execution_count": null,
      "outputs": [
        {
          "output_type": "execute_result",
          "data": {
            "text/plain": [
              "'\\nHacer una funcion para convertir grado Celsius a Fahrenheit llamada convertToFahrenheit() con degreesCelsius como parametro\\n'"
            ],
            "application/vnd.google.colaboratory.intrinsic+json": {
              "type": "string"
            }
          },
          "metadata": {},
          "execution_count": 33
        }
      ]
    },
    {
      "cell_type": "code",
      "source": [
        "'''\n",
        "Hacer una funcion para convertir grado Fahrenheit a Celsius llamada convertToCelsius() con degreesFahrenheit como parametro\n",
        "'''"
      ],
      "metadata": {
        "colab": {
          "base_uri": "https://localhost:8080/",
          "height": 36
        },
        "id": "0UQU35lpQ7Cx",
        "outputId": "8bebd21d-228a-4bb4-edac-75a0177b1238",
        "collapsed": true
      },
      "execution_count": null,
      "outputs": [
        {
          "output_type": "execute_result",
          "data": {
            "text/plain": [
              "'\\nHacer una funcion para convertir grado Fahrenheit a Celsius llamada convertToCelsius() con degreesFahrenheit como parametro\\n'"
            ],
            "application/vnd.google.colaboratory.intrinsic+json": {
              "type": "string"
            }
          },
          "metadata": {},
          "execution_count": 34
        }
      ]
    },
    {
      "cell_type": "code",
      "source": [
        "'''\n",
        "Escribe una función que reciba el nombre y la nota de un estudiante y devuelva si aprobó (>=6)\n",
        "'''"
      ],
      "metadata": {
        "id": "vs9JUngvSb8p",
        "colab": {
          "base_uri": "https://localhost:8080/",
          "height": 36
        },
        "outputId": "06840435-89e7-4a35-f8c2-b8162ce418fe",
        "collapsed": true
      },
      "execution_count": null,
      "outputs": [
        {
          "output_type": "execute_result",
          "data": {
            "text/plain": [
              "'\\nEscribe una función que reciba el nombre y la nota de un estudiante y devuelva si aprobó (>=6)\\n'"
            ],
            "application/vnd.google.colaboratory.intrinsic+json": {
              "type": "string"
            }
          },
          "metadata": {},
          "execution_count": 35
        }
      ]
    },
    {
      "cell_type": "code",
      "source": [
        "'''\n",
        "Escriba dos funciones, isOdd() e isEven(), con un único parámetro numérico llamado número.\n",
        "La función isOdd() devuelve Verdadero si el número es impar y Falso si el número es par.\n",
        "La función isEven() devuelve Verdadero si el número es par y Falso si el número es impar.\n",
        "'''"
      ],
      "metadata": {
        "id": "L1S2itveRKR_",
        "colab": {
          "base_uri": "https://localhost:8080/",
          "height": 53
        },
        "outputId": "b263e310-1ad0-4b2a-d3e0-5eae5a73cc1c",
        "collapsed": true
      },
      "execution_count": null,
      "outputs": [
        {
          "output_type": "execute_result",
          "data": {
            "text/plain": [
              "'\\nEscriba dos funciones, isOdd() e isEven(), con un único parámetro numérico llamado número.\\nLa función isOdd() devuelve Verdadero si el número es impar y Falso si el número es par.\\nLa función isEven() devuelve Verdadero si el número es par y Falso si el número es impar.\\n'"
            ],
            "application/vnd.google.colaboratory.intrinsic+json": {
              "type": "string"
            }
          },
          "metadata": {},
          "execution_count": 36
        }
      ]
    },
    {
      "cell_type": "code",
      "source": [
        "'''\n",
        "Para este ejercicio, escribirás cuatro funciones.\n",
        "Las funciones área() y perímetro() tienen parámetros de longitud y anchura,\n",
        "mientras que las funciones volumen() y áreasuperficie() tienen parámetros de longitud, anchura y altura.\n",
        "Estas funciones devuelven el área, el perímetro, el volumen y el área de la superficie, respectivamente.\n",
        "'''"
      ],
      "metadata": {
        "id": "Pwi3A2xRRfKW",
        "colab": {
          "base_uri": "https://localhost:8080/",
          "height": 53
        },
        "outputId": "37104b8e-0399-4baf-b493-83c6ed3b33f7",
        "collapsed": true
      },
      "execution_count": null,
      "outputs": [
        {
          "output_type": "execute_result",
          "data": {
            "text/plain": [
              "'\\nPara este ejercicio, escribirás cuatro funciones.\\nLas funciones área() y perímetro() tienen parámetros de longitud y anchura,\\nmientras que las funciones volumen() y áreasuperficie() tienen parámetros de longitud, anchura y altura.\\nEstas funciones devuelven el área, el perímetro, el volumen y el área de la superficie, respectivamente.\\n'"
            ],
            "application/vnd.google.colaboratory.intrinsic+json": {
              "type": "string"
            }
          },
          "metadata": {},
          "execution_count": 37
        }
      ]
    },
    {
      "cell_type": "code",
      "source": [
        "'''\n",
        "Función que reciba un año y diga si es bisiesto.(pista: divisible entre 4 y no 100, o divisible entre 400).\n",
        "Devolver True si es bisiesto y un False si no lo es\n",
        "'''"
      ],
      "metadata": {
        "colab": {
          "base_uri": "https://localhost:8080/",
          "height": 36
        },
        "id": "8Y6l3-AZSqVi",
        "outputId": "f287c671-c2e0-45b6-8068-d4f96899696e",
        "collapsed": true
      },
      "execution_count": null,
      "outputs": [
        {
          "output_type": "execute_result",
          "data": {
            "text/plain": [
              "'\\nFunción que reciba un año y diga si es bisiesto.(pista: divisible entre 4 y no 100, o divisible entre 400).\\nDevolver True si es bisiesto y un False si no lo es\\n'"
            ],
            "application/vnd.google.colaboratory.intrinsic+json": {
              "type": "string"
            }
          },
          "metadata": {},
          "execution_count": 41
        }
      ]
    },
    {
      "cell_type": "markdown",
      "source": [
        "![bisiesto](https://www.excelfreeblog.com/wp-content/uploads/2020/04/02-1.jpg)"
      ],
      "metadata": {
        "id": "y41nh4A-TVKs"
      }
    },
    {
      "cell_type": "code",
      "source": [
        "def isBisiesto(año):\n",
        "    return (año % 4 == 0 and año % 100 != 0) or (año % 400 == 0)\n",
        "\n",
        "año_consultado = int(input(\"Ingrese un año: \"))\n",
        "print(\"¿Es año bisiesto?:\", isBisiesto(año_consultado))"
      ],
      "metadata": {
        "id": "ydrylc__k2Wf"
      },
      "execution_count": null,
      "outputs": []
    },
    {
      "cell_type": "code",
      "source": [],
      "metadata": {
        "id": "nHgnGsMHk3PM"
      },
      "execution_count": null,
      "outputs": []
    }
  ]
}