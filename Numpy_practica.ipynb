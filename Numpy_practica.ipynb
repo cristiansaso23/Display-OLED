{
  "nbformat": 4,
  "nbformat_minor": 0,
  "metadata": {
    "colab": {
      "provenance": [],
      "include_colab_link": true
    },
    "kernelspec": {
      "name": "python3",
      "display_name": "Python 3"
    },
    "language_info": {
      "name": "python"
    }
  },
  "cells": [
    {
      "cell_type": "markdown",
      "metadata": {
        "id": "view-in-github",
        "colab_type": "text"
      },
      "source": [
        "<a href=\"https://colab.research.google.com/github/cristiansaso23/Display-OLED/blob/main/Numpy_practica.ipynb\" target=\"_parent\"><img src=\"https://colab.research.google.com/assets/colab-badge.svg\" alt=\"Open In Colab\"/></a>"
      ]
    },
    {
      "cell_type": "code",
      "execution_count": 1,
      "metadata": {
        "id": "P911p-tDoyoz"
      },
      "outputs": [],
      "source": [
        "# invocamos la libreria numpy\n",
        "import numpy as np"
      ]
    },
    {
      "cell_type": "markdown",
      "source": [
        "Invocacion de una lista y un array"
      ],
      "metadata": {
        "id": "dtCxiNobqOFj"
      }
    },
    {
      "cell_type": "code",
      "source": [
        "lista = [1,2,3]\n",
        "print(lista)\n",
        "print(type(lista))"
      ],
      "metadata": {
        "colab": {
          "base_uri": "https://localhost:8080/"
        },
        "id": "xUPPaFW0pQMu",
        "outputId": "202fad51-7ef8-402e-c1d9-738ca0cb7ebc"
      },
      "execution_count": 2,
      "outputs": [
        {
          "output_type": "stream",
          "name": "stdout",
          "text": [
            "[1, 2, 3]\n",
            "<class 'list'>\n"
          ]
        }
      ]
    },
    {
      "cell_type": "code",
      "source": [
        "vector = np.array([1,2,3])\n",
        "print(vector)\n",
        "print(type(vector))"
      ],
      "metadata": {
        "colab": {
          "base_uri": "https://localhost:8080/"
        },
        "id": "m35eq4tepZPH",
        "outputId": "a80cfcb2-8a68-4ccb-d0d7-6e4de3c9d8e9"
      },
      "execution_count": 3,
      "outputs": [
        {
          "output_type": "stream",
          "name": "stdout",
          "text": [
            "[1 2 3]\n",
            "<class 'numpy.ndarray'>\n"
          ]
        }
      ]
    },
    {
      "cell_type": "markdown",
      "source": [
        "Indexación sobre una lista y un array (numpy)\n",
        "\n",
        "![Ejercicio NumPy](https://www.programiz.com/sites/tutorial2program/files/numpy-array-negative-index.png)"
      ],
      "metadata": {
        "id": "pNgV-Vj4qEFu"
      }
    },
    {
      "cell_type": "code",
      "source": [
        "lista[0]"
      ],
      "metadata": {
        "colab": {
          "base_uri": "https://localhost:8080/"
        },
        "id": "NwhsGbt9psKp",
        "outputId": "50e5f3bb-5437-4ec3-89fe-efda8cd04952"
      },
      "execution_count": 4,
      "outputs": [
        {
          "output_type": "execute_result",
          "data": {
            "text/plain": [
              "1"
            ]
          },
          "metadata": {},
          "execution_count": 4
        }
      ]
    },
    {
      "cell_type": "code",
      "source": [
        "vector[0]"
      ],
      "metadata": {
        "colab": {
          "base_uri": "https://localhost:8080/"
        },
        "id": "SuSlk3Wrp1r_",
        "outputId": "a445df17-751b-4b02-d4fa-4c873212a48f"
      },
      "execution_count": 5,
      "outputs": [
        {
          "output_type": "execute_result",
          "data": {
            "text/plain": [
              "np.int64(1)"
            ]
          },
          "metadata": {},
          "execution_count": 5
        }
      ]
    },
    {
      "cell_type": "code",
      "source": [
        "lista[-1]"
      ],
      "metadata": {
        "colab": {
          "base_uri": "https://localhost:8080/"
        },
        "id": "LzCfsf0np215",
        "outputId": "9c728a1e-f155-427e-e514-e789f798373d"
      },
      "execution_count": 6,
      "outputs": [
        {
          "output_type": "execute_result",
          "data": {
            "text/plain": [
              "3"
            ]
          },
          "metadata": {},
          "execution_count": 6
        }
      ]
    },
    {
      "cell_type": "code",
      "source": [
        "vector[-1]"
      ],
      "metadata": {
        "colab": {
          "base_uri": "https://localhost:8080/"
        },
        "id": "RyYVU6cap-jG",
        "outputId": "b0267288-b4a3-4e13-c3fe-1fb7dccc7bc6"
      },
      "execution_count": 7,
      "outputs": [
        {
          "output_type": "execute_result",
          "data": {
            "text/plain": [
              "np.int64(3)"
            ]
          },
          "metadata": {},
          "execution_count": 7
        }
      ]
    },
    {
      "cell_type": "code",
      "source": [
        "vector[1:3:1]"
      ],
      "metadata": {
        "colab": {
          "base_uri": "https://localhost:8080/"
        },
        "id": "4Sq3LPMmw3IH",
        "outputId": "51a3ac26-5b6e-4c7e-9d56-72d1a89e5fa3"
      },
      "execution_count": 8,
      "outputs": [
        {
          "output_type": "execute_result",
          "data": {
            "text/plain": [
              "array([2, 3])"
            ]
          },
          "metadata": {},
          "execution_count": 8
        }
      ]
    },
    {
      "cell_type": "code",
      "source": [
        "vector[::-1]"
      ],
      "metadata": {
        "colab": {
          "base_uri": "https://localhost:8080/"
        },
        "id": "qjTs4n3ixHHT",
        "outputId": "3d4c1992-b46a-4688-98a9-9373fd56afe5"
      },
      "execution_count": 9,
      "outputs": [
        {
          "output_type": "execute_result",
          "data": {
            "text/plain": [
              "array([3, 2, 1])"
            ]
          },
          "metadata": {},
          "execution_count": 9
        }
      ]
    },
    {
      "cell_type": "markdown",
      "source": [
        "Condicionales"
      ],
      "metadata": {
        "id": "h_3fL-0_xpX5"
      }
    },
    {
      "cell_type": "code",
      "source": [
        "vector[vector > 1]"
      ],
      "metadata": {
        "colab": {
          "base_uri": "https://localhost:8080/"
        },
        "id": "9UM4yLkJxoFH",
        "outputId": "77e87271-e7d5-4c90-f276-0eb36d583707"
      },
      "execution_count": 10,
      "outputs": [
        {
          "output_type": "execute_result",
          "data": {
            "text/plain": [
              "array([2, 3])"
            ]
          },
          "metadata": {},
          "execution_count": 10
        }
      ]
    },
    {
      "cell_type": "code",
      "source": [
        "vector[vector < 1]"
      ],
      "metadata": {
        "colab": {
          "base_uri": "https://localhost:8080/"
        },
        "id": "twSxoOL7xQmz",
        "outputId": "690d81d5-71a2-44b4-d809-3acaef6ca2d5"
      },
      "execution_count": 11,
      "outputs": [
        {
          "output_type": "execute_result",
          "data": {
            "text/plain": [
              "array([], dtype=int64)"
            ]
          },
          "metadata": {},
          "execution_count": 11
        }
      ]
    },
    {
      "cell_type": "code",
      "source": [
        "vector[vector == 2]"
      ],
      "metadata": {
        "colab": {
          "base_uri": "https://localhost:8080/"
        },
        "id": "Dvw28s9uxrnY",
        "outputId": "3226257b-9e65-4ae5-c77f-4b35f0ee4d17"
      },
      "execution_count": 12,
      "outputs": [
        {
          "output_type": "execute_result",
          "data": {
            "text/plain": [
              "array([2])"
            ]
          },
          "metadata": {},
          "execution_count": 12
        }
      ]
    },
    {
      "cell_type": "markdown",
      "source": [
        "Creacion de vectores"
      ],
      "metadata": {
        "id": "ynEpRtUfqXC-"
      }
    },
    {
      "cell_type": "code",
      "source": [
        "vector_a = np.arange(10)\n",
        "print(vector_a)"
      ],
      "metadata": {
        "colab": {
          "base_uri": "https://localhost:8080/"
        },
        "id": "zflKa2_DqAuP",
        "outputId": "748a8eed-3868-4521-885a-71a9ac887751"
      },
      "execution_count": 13,
      "outputs": [
        {
          "output_type": "stream",
          "name": "stdout",
          "text": [
            "[0 1 2 3 4 5 6 7 8 9]\n"
          ]
        }
      ]
    },
    {
      "cell_type": "code",
      "source": [
        "vector_b = np.linspace(0,10,10)\n",
        "print(vector_b)"
      ],
      "metadata": {
        "colab": {
          "base_uri": "https://localhost:8080/"
        },
        "id": "AUkiRV7qq3Ty",
        "outputId": "7e012408-065f-4584-a84b-c746ec5576aa"
      },
      "execution_count": 37,
      "outputs": [
        {
          "output_type": "stream",
          "name": "stdout",
          "text": [
            "[ 0.          1.11111111  2.22222222  3.33333333  4.44444444  5.55555556\n",
            "  6.66666667  7.77777778  8.88888889 10.        ]\n"
          ]
        }
      ]
    },
    {
      "cell_type": "code",
      "source": [
        "vector_c = np.zeros(10)\n",
        "print(vector_c)"
      ],
      "metadata": {
        "colab": {
          "base_uri": "https://localhost:8080/"
        },
        "id": "h0j3hOG7rp1C",
        "outputId": "3fbc548e-4dae-4869-e293-3a0095b160a0"
      },
      "execution_count": 15,
      "outputs": [
        {
          "output_type": "stream",
          "name": "stdout",
          "text": [
            "[0. 0. 0. 0. 0. 0. 0. 0. 0. 0.]\n"
          ]
        }
      ]
    },
    {
      "cell_type": "code",
      "source": [
        "vector_d = np.ones(10)\n",
        "print(vector_d)"
      ],
      "metadata": {
        "colab": {
          "base_uri": "https://localhost:8080/"
        },
        "id": "OUBBm8x_sONV",
        "outputId": "c983624c-7a24-497e-dd92-51871ebd4e62"
      },
      "execution_count": 16,
      "outputs": [
        {
          "output_type": "stream",
          "name": "stdout",
          "text": [
            "[1. 1. 1. 1. 1. 1. 1. 1. 1. 1.]\n"
          ]
        }
      ]
    },
    {
      "cell_type": "code",
      "source": [
        "vector_e = np.array([1,2,3,5,6,7,8])\n",
        "print(vector_e)"
      ],
      "metadata": {
        "colab": {
          "base_uri": "https://localhost:8080/"
        },
        "id": "-C13t42Msae0",
        "outputId": "95364734-e1da-4c62-9483-8cca8631236b"
      },
      "execution_count": 17,
      "outputs": [
        {
          "output_type": "stream",
          "name": "stdout",
          "text": [
            "[1 2 3 5 6 7 8]\n"
          ]
        }
      ]
    },
    {
      "cell_type": "markdown",
      "source": [
        "Verificar dimensiones"
      ],
      "metadata": {
        "id": "EH1AWoX5tIxU"
      }
    },
    {
      "cell_type": "code",
      "source": [
        "vector_a.shape"
      ],
      "metadata": {
        "colab": {
          "base_uri": "https://localhost:8080/"
        },
        "id": "mOeIQSaqtK3c",
        "outputId": "54fb852e-c072-49d5-f269-2f52e261379e"
      },
      "execution_count": 18,
      "outputs": [
        {
          "output_type": "execute_result",
          "data": {
            "text/plain": [
              "(10,)"
            ]
          },
          "metadata": {},
          "execution_count": 18
        }
      ]
    },
    {
      "cell_type": "markdown",
      "source": [
        "Calculos con vectores"
      ],
      "metadata": {
        "id": "fPmwzW7fsvIO"
      }
    },
    {
      "cell_type": "code",
      "source": [
        "# a + d\n",
        "resultado1 =  vector_a + vector_d\n",
        "resultado1"
      ],
      "metadata": {
        "colab": {
          "base_uri": "https://localhost:8080/"
        },
        "id": "OJySvmrdsjsv",
        "outputId": "848849c7-3d1b-417c-b83b-5f1fb99a10ca"
      },
      "execution_count": 19,
      "outputs": [
        {
          "output_type": "execute_result",
          "data": {
            "text/plain": [
              "array([ 1.,  2.,  3.,  4.,  5.,  6.,  7.,  8.,  9., 10.])"
            ]
          },
          "metadata": {},
          "execution_count": 19
        }
      ]
    },
    {
      "cell_type": "code",
      "source": [
        "# a - d\n",
        "resultado2 = vector_a - vector_d\n",
        "resultado2"
      ],
      "metadata": {
        "colab": {
          "base_uri": "https://localhost:8080/"
        },
        "id": "pwzPjs8jtdDe",
        "outputId": "a4be4ed7-df40-4767-eb11-e8c12e5dac9c"
      },
      "execution_count": 20,
      "outputs": [
        {
          "output_type": "execute_result",
          "data": {
            "text/plain": [
              "array([-1.,  0.,  1.,  2.,  3.,  4.,  5.,  6.,  7.,  8.])"
            ]
          },
          "metadata": {},
          "execution_count": 20
        }
      ]
    },
    {
      "cell_type": "code",
      "source": [
        "# a^2\n",
        "resultado3 = vector_a ** 2\n",
        "resultado3"
      ],
      "metadata": {
        "colab": {
          "base_uri": "https://localhost:8080/"
        },
        "id": "2IqFqI7Vtsoh",
        "outputId": "74a46bed-5279-4653-8d5a-456d7629bead"
      },
      "execution_count": 21,
      "outputs": [
        {
          "output_type": "execute_result",
          "data": {
            "text/plain": [
              "array([ 0,  1,  4,  9, 16, 25, 36, 49, 64, 81])"
            ]
          },
          "metadata": {},
          "execution_count": 21
        }
      ]
    },
    {
      "cell_type": "code",
      "source": [
        "# a*2\n",
        "resultado4 = vector_a * 2\n",
        "resultado4"
      ],
      "metadata": {
        "colab": {
          "base_uri": "https://localhost:8080/"
        },
        "id": "cJvLu6PNt4DH",
        "outputId": "a61b6067-910e-4aa0-b6c0-b3612653f0d5"
      },
      "execution_count": 22,
      "outputs": [
        {
          "output_type": "execute_result",
          "data": {
            "text/plain": [
              "array([ 0,  2,  4,  6,  8, 10, 12, 14, 16, 18])"
            ]
          },
          "metadata": {},
          "execution_count": 22
        }
      ]
    },
    {
      "cell_type": "code",
      "source": [
        "# a + vector que tenga todos sus componentes igual 255\n",
        "aux = vector_d * 255\n",
        "resultado5 = vector_a + aux\n",
        "print('Vector D ',vector_d)\n",
        "print('Multiplicamos por 255 al Vector D ',aux)\n",
        "print('Vector A ',vector_a)\n",
        "print('Suma entre el vector A y el vector D multiplicado por 255 ',resultado5)"
      ],
      "metadata": {
        "colab": {
          "base_uri": "https://localhost:8080/"
        },
        "id": "zwKXIl7Gt_it",
        "outputId": "73ccfd15-ee3c-4ee3-d8a2-268f786b6da3"
      },
      "execution_count": 23,
      "outputs": [
        {
          "output_type": "stream",
          "name": "stdout",
          "text": [
            "Vector D  [1. 1. 1. 1. 1. 1. 1. 1. 1. 1.]\n",
            "Multiplicamos por 255 al Vector D  [255. 255. 255. 255. 255. 255. 255. 255. 255. 255.]\n",
            "Vector A  [0 1 2 3 4 5 6 7 8 9]\n",
            "Suma entre el vector A y el vector D multiplicado por 255  [255. 256. 257. 258. 259. 260. 261. 262. 263. 264.]\n"
          ]
        }
      ]
    },
    {
      "cell_type": "code",
      "source": [
        "# raiz(a)\n",
        "resultado =  np.sqrt(vector_a)\n",
        "resultado"
      ],
      "metadata": {
        "colab": {
          "base_uri": "https://localhost:8080/"
        },
        "id": "13GOLDtgunnC",
        "outputId": "8e081bad-8aec-4fc8-b371-5dea20c70612"
      },
      "execution_count": 24,
      "outputs": [
        {
          "output_type": "execute_result",
          "data": {
            "text/plain": [
              "array([0.        , 1.        , 1.41421356, 1.73205081, 2.        ,\n",
              "       2.23606798, 2.44948974, 2.64575131, 2.82842712, 3.        ])"
            ]
          },
          "metadata": {},
          "execution_count": 24
        }
      ]
    },
    {
      "cell_type": "markdown",
      "source": [
        "Funciones de agregacion\n",
        "\n",
        "\n",
        "![Ejercicio NumPy](https://blogger.googleusercontent.com/img/b/R29vZ2xl/AVvXsEhXjuo6_gVu1IYhnb8OroS5BvhaFNIiTY5NzwGRoYF23apFLjJzM3er8OFSFMAqcphKBtruQ8KOoAiqDU98usUU6rQvawaZJNXGJ3S2aSmuZg920RUf9LtTFiyBTY-e_4nFgHwNmleqvIA/s1600/4214_t2-3.PNG)\n"
      ],
      "metadata": {
        "id": "suWEl3Koxy8R"
      }
    },
    {
      "cell_type": "code",
      "source": [
        "vector_a"
      ],
      "metadata": {
        "colab": {
          "base_uri": "https://localhost:8080/"
        },
        "id": "UC555BZJx2H_",
        "outputId": "7e7938f6-09f8-4bdc-d23f-389210ec3045"
      },
      "execution_count": 25,
      "outputs": [
        {
          "output_type": "execute_result",
          "data": {
            "text/plain": [
              "array([0, 1, 2, 3, 4, 5, 6, 7, 8, 9])"
            ]
          },
          "metadata": {},
          "execution_count": 25
        }
      ]
    },
    {
      "cell_type": "code",
      "source": [
        "np.sum(vector_a)"
      ],
      "metadata": {
        "colab": {
          "base_uri": "https://localhost:8080/"
        },
        "id": "mUTyPhDZx6hm",
        "outputId": "bfee019e-31e9-4a38-98d1-7e039f2ac28e"
      },
      "execution_count": 26,
      "outputs": [
        {
          "output_type": "execute_result",
          "data": {
            "text/plain": [
              "np.int64(45)"
            ]
          },
          "metadata": {},
          "execution_count": 26
        }
      ]
    },
    {
      "cell_type": "code",
      "source": [
        "np.mean(vector_a)"
      ],
      "metadata": {
        "colab": {
          "base_uri": "https://localhost:8080/"
        },
        "id": "_d8zlxmiyI-R",
        "outputId": "522dc063-fbda-4c4f-f8b4-6349d8da9aa8"
      },
      "execution_count": 27,
      "outputs": [
        {
          "output_type": "execute_result",
          "data": {
            "text/plain": [
              "np.float64(4.5)"
            ]
          },
          "metadata": {},
          "execution_count": 27
        }
      ]
    },
    {
      "cell_type": "code",
      "source": [
        "np.min(vector_a)"
      ],
      "metadata": {
        "colab": {
          "base_uri": "https://localhost:8080/"
        },
        "id": "2EmUcemkysxv",
        "outputId": "741d4918-3396-410d-aab0-987b3930b59c"
      },
      "execution_count": 28,
      "outputs": [
        {
          "output_type": "execute_result",
          "data": {
            "text/plain": [
              "np.int64(0)"
            ]
          },
          "metadata": {},
          "execution_count": 28
        }
      ]
    },
    {
      "cell_type": "code",
      "source": [
        "np.max(vector_a)"
      ],
      "metadata": {
        "colab": {
          "base_uri": "https://localhost:8080/"
        },
        "id": "U1QqZTqWy0jC",
        "outputId": "b7c1681d-bca2-458c-bd55-4647867c9463"
      },
      "execution_count": 29,
      "outputs": [
        {
          "output_type": "execute_result",
          "data": {
            "text/plain": [
              "np.int64(9)"
            ]
          },
          "metadata": {},
          "execution_count": 29
        }
      ]
    },
    {
      "cell_type": "markdown",
      "source": [
        "Ejercicios"
      ],
      "metadata": {
        "id": "z2iIJRphx484"
      }
    },
    {
      "cell_type": "code",
      "source": [
        "#Crear un array del 0 al 9\n",
        "vector_b= np.linspace(0,9,10)\n",
        "print(vector_b)"
      ],
      "metadata": {
        "colab": {
          "base_uri": "https://localhost:8080/"
        },
        "id": "Z7juqzHlvx3Y",
        "outputId": "cdccc7c6-34a9-4ff1-8220-080ee569ca37"
      },
      "execution_count": 40,
      "outputs": [
        {
          "output_type": "stream",
          "name": "stdout",
          "text": [
            "[0. 1. 2. 3. 4. 5. 6. 7. 8. 9.]\n"
          ]
        }
      ]
    },
    {
      "cell_type": "code",
      "source": [
        "#Crear un array de 10 ceros\n",
        "b ="
      ],
      "metadata": {
        "id": "l6PT555XwH01"
      },
      "execution_count": null,
      "outputs": []
    },
    {
      "cell_type": "code",
      "source": [
        "#Crear un array de 10 unos\n",
        "c ="
      ],
      "metadata": {
        "id": "fePu0OIbwLzb"
      },
      "execution_count": null,
      "outputs": []
    },
    {
      "cell_type": "code",
      "source": [
        "#Acceder al primer, último y penúltimo elemento del vector a\n"
      ],
      "metadata": {
        "id": "_GqbaUqHwOUt"
      },
      "execution_count": null,
      "outputs": []
    },
    {
      "cell_type": "code",
      "source": [
        "#Extraer los elementos pares de un array del vector a\n"
      ],
      "metadata": {
        "id": "lbGZ-bITwSyf"
      },
      "execution_count": null,
      "outputs": []
    },
    {
      "cell_type": "code",
      "source": [
        "#Multiplicar todos los elementos por 2 del vector a"
      ],
      "metadata": {
        "id": "0RiWH0WAweY_"
      },
      "execution_count": null,
      "outputs": []
    },
    {
      "cell_type": "code",
      "source": [
        "#Invertir un array"
      ],
      "metadata": {
        "id": "wYQv4LwZwyAK"
      },
      "execution_count": null,
      "outputs": []
    },
    {
      "cell_type": "code",
      "source": [
        "#Calcular la suma de todos los elementos\n"
      ],
      "metadata": {
        "id": "XHh--myQwl5r"
      },
      "execution_count": null,
      "outputs": []
    },
    {
      "cell_type": "code",
      "source": [
        "#Crear un array llamado d con 20 valores espaciados linealmente entre 0 y 1"
      ],
      "metadata": {
        "id": "_xdXsN2kwpfX"
      },
      "execution_count": null,
      "outputs": []
    }
  ]
}